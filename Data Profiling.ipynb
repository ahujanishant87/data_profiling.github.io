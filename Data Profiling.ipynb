{
 "cells": [
  {
   "cell_type": "code",
   "execution_count": 24,
   "id": "3b26c04a",
   "metadata": {},
   "outputs": [],
   "source": [
    "#Import relevant libraries\n",
    "import pandas as pd\n",
    "import numpy as np\n",
    "import matplotlib. pyplot as plt\n",
    "import seaborn as sns"
   ]
  },
  {
   "cell_type": "code",
   "execution_count": 25,
   "id": "946a2a80",
   "metadata": {},
   "outputs": [],
   "source": [
    "# Trial dataset titatic\n",
    "df=pd.read_csv('titanic_train.csv',encoding='utf-8')"
   ]
  },
  {
   "cell_type": "code",
   "execution_count": 26,
   "id": "c6a3c2d0",
   "metadata": {},
   "outputs": [
    {
     "name": "stdout",
     "output_type": "stream",
     "text": [
      "Requirement already satisfied: ydata-profiling in c:\\users\\nishant ahuja\\anaconda3\\lib\\site-packages (4.9.0)\n",
      "Requirement already satisfied: multimethod<2,>=1.4 in c:\\users\\nishant ahuja\\anaconda3\\lib\\site-packages (from ydata-profiling) (1.12)\n",
      "Requirement already satisfied: pydantic>=2 in c:\\users\\nishant ahuja\\anaconda3\\lib\\site-packages (from ydata-profiling) (2.8.2)\n",
      "Requirement already satisfied: statsmodels<1,>=0.13.2 in c:\\users\\nishant ahuja\\anaconda3\\lib\\site-packages (from ydata-profiling) (0.13.5)\n",
      "Requirement already satisfied: imagehash==4.3.1 in c:\\users\\nishant ahuja\\anaconda3\\lib\\site-packages (from ydata-profiling) (4.3.1)\n",
      "Requirement already satisfied: phik<0.13,>=0.11.1 in c:\\users\\nishant ahuja\\anaconda3\\lib\\site-packages (from ydata-profiling) (0.12.4)\n",
      "Requirement already satisfied: scipy<1.14,>=1.4.1 in c:\\users\\nishant ahuja\\anaconda3\\lib\\site-packages (from ydata-profiling) (1.10.0)\n",
      "Requirement already satisfied: numpy<2,>=1.16.0 in c:\\users\\nishant ahuja\\anaconda3\\lib\\site-packages (from ydata-profiling) (1.23.5)\n",
      "Requirement already satisfied: wordcloud>=1.9.1 in c:\\users\\nishant ahuja\\anaconda3\\lib\\site-packages (from ydata-profiling) (1.9.2)\n",
      "Requirement already satisfied: jinja2<3.2,>=2.11.1 in c:\\users\\nishant ahuja\\anaconda3\\lib\\site-packages (from ydata-profiling) (3.1.2)\n",
      "Requirement already satisfied: seaborn<0.14,>=0.10.1 in c:\\users\\nishant ahuja\\anaconda3\\lib\\site-packages (from ydata-profiling) (0.12.2)\n",
      "Requirement already satisfied: htmlmin==0.1.12 in c:\\users\\nishant ahuja\\anaconda3\\lib\\site-packages (from ydata-profiling) (0.1.12)\n",
      "Requirement already satisfied: tqdm<5,>=4.48.2 in c:\\users\\nishant ahuja\\anaconda3\\lib\\site-packages (from ydata-profiling) (4.64.1)\n",
      "Requirement already satisfied: matplotlib<3.10,>=3.5 in c:\\users\\nishant ahuja\\anaconda3\\lib\\site-packages (from ydata-profiling) (3.7.0)\n",
      "Requirement already satisfied: PyYAML<6.1,>=5.0.0 in c:\\users\\nishant ahuja\\anaconda3\\lib\\site-packages (from ydata-profiling) (6.0)\n",
      "Requirement already satisfied: requests<3,>=2.24.0 in c:\\users\\nishant ahuja\\anaconda3\\lib\\site-packages (from ydata-profiling) (2.28.1)\n",
      "Requirement already satisfied: typeguard<5,>=3 in c:\\users\\nishant ahuja\\anaconda3\\lib\\site-packages (from ydata-profiling) (4.3.0)\n",
      "Requirement already satisfied: pandas!=1.4.0,<3,>1.1 in c:\\users\\nishant ahuja\\anaconda3\\lib\\site-packages (from ydata-profiling) (2.2.2)\n",
      "Requirement already satisfied: numba<1,>=0.56.0 in c:\\users\\nishant ahuja\\anaconda3\\lib\\site-packages (from ydata-profiling) (0.56.4)\n",
      "Requirement already satisfied: visions[type_image_path]<0.7.7,>=0.7.5 in c:\\users\\nishant ahuja\\anaconda3\\lib\\site-packages (from ydata-profiling) (0.7.6)\n",
      "Requirement already satisfied: dacite>=1.8 in c:\\users\\nishant ahuja\\anaconda3\\lib\\site-packages (from ydata-profiling) (1.8.1)\n",
      "Requirement already satisfied: PyWavelets in c:\\users\\nishant ahuja\\anaconda3\\lib\\site-packages (from imagehash==4.3.1->ydata-profiling) (1.4.1)\n",
      "Requirement already satisfied: pillow in c:\\users\\nishant ahuja\\anaconda3\\lib\\site-packages (from imagehash==4.3.1->ydata-profiling) (9.4.0)\n",
      "Requirement already satisfied: MarkupSafe>=2.0 in c:\\users\\nishant ahuja\\anaconda3\\lib\\site-packages (from jinja2<3.2,>=2.11.1->ydata-profiling) (2.1.1)\n",
      "Requirement already satisfied: packaging>=20.0 in c:\\users\\nishant ahuja\\anaconda3\\lib\\site-packages (from matplotlib<3.10,>=3.5->ydata-profiling) (22.0)\n",
      "Requirement already satisfied: python-dateutil>=2.7 in c:\\users\\nishant ahuja\\anaconda3\\lib\\site-packages (from matplotlib<3.10,>=3.5->ydata-profiling) (2.8.2)\n",
      "Requirement already satisfied: fonttools>=4.22.0 in c:\\users\\nishant ahuja\\anaconda3\\lib\\site-packages (from matplotlib<3.10,>=3.5->ydata-profiling) (4.25.0)\n",
      "Requirement already satisfied: pyparsing>=2.3.1 in c:\\users\\nishant ahuja\\anaconda3\\lib\\site-packages (from matplotlib<3.10,>=3.5->ydata-profiling) (3.0.9)\n",
      "Requirement already satisfied: kiwisolver>=1.0.1 in c:\\users\\nishant ahuja\\anaconda3\\lib\\site-packages (from matplotlib<3.10,>=3.5->ydata-profiling) (1.4.4)\n",
      "Requirement already satisfied: contourpy>=1.0.1 in c:\\users\\nishant ahuja\\anaconda3\\lib\\site-packages (from matplotlib<3.10,>=3.5->ydata-profiling) (1.0.5)\n",
      "Requirement already satisfied: cycler>=0.10 in c:\\users\\nishant ahuja\\anaconda3\\lib\\site-packages (from matplotlib<3.10,>=3.5->ydata-profiling) (0.11.0)\n",
      "Requirement already satisfied: llvmlite<0.40,>=0.39.0dev0 in c:\\users\\nishant ahuja\\anaconda3\\lib\\site-packages (from numba<1,>=0.56.0->ydata-profiling) (0.39.1)\n",
      "Requirement already satisfied: setuptools in c:\\users\\nishant ahuja\\anaconda3\\lib\\site-packages (from numba<1,>=0.56.0->ydata-profiling) (65.6.3)\n",
      "Requirement already satisfied: tzdata>=2022.7 in c:\\users\\nishant ahuja\\anaconda3\\lib\\site-packages (from pandas!=1.4.0,<3,>1.1->ydata-profiling) (2024.1)\n",
      "Requirement already satisfied: pytz>=2020.1 in c:\\users\\nishant ahuja\\anaconda3\\lib\\site-packages (from pandas!=1.4.0,<3,>1.1->ydata-profiling) (2022.7)\n",
      "Requirement already satisfied: joblib>=0.14.1 in c:\\users\\nishant ahuja\\anaconda3\\lib\\site-packages (from phik<0.13,>=0.11.1->ydata-profiling) (1.1.1)\n",
      "Requirement already satisfied: annotated-types>=0.4.0 in c:\\users\\nishant ahuja\\anaconda3\\lib\\site-packages (from pydantic>=2->ydata-profiling) (0.7.0)\n",
      "Requirement already satisfied: pydantic-core==2.20.1 in c:\\users\\nishant ahuja\\anaconda3\\lib\\site-packages (from pydantic>=2->ydata-profiling) (2.20.1)\n",
      "Requirement already satisfied: typing-extensions>=4.6.1 in c:\\users\\nishant ahuja\\anaconda3\\lib\\site-packages (from pydantic>=2->ydata-profiling) (4.12.2)\n",
      "Requirement already satisfied: charset-normalizer<3,>=2 in c:\\users\\nishant ahuja\\anaconda3\\lib\\site-packages (from requests<3,>=2.24.0->ydata-profiling) (2.0.4)\n",
      "Requirement already satisfied: urllib3<1.27,>=1.21.1 in c:\\users\\nishant ahuja\\anaconda3\\lib\\site-packages (from requests<3,>=2.24.0->ydata-profiling) (1.26.14)\n",
      "Requirement already satisfied: certifi>=2017.4.17 in c:\\users\\nishant ahuja\\anaconda3\\lib\\site-packages (from requests<3,>=2.24.0->ydata-profiling) (2023.7.22)\n",
      "Requirement already satisfied: idna<4,>=2.5 in c:\\users\\nishant ahuja\\anaconda3\\lib\\site-packages (from requests<3,>=2.24.0->ydata-profiling) (3.4)\n",
      "Requirement already satisfied: patsy>=0.5.2 in c:\\users\\nishant ahuja\\anaconda3\\lib\\site-packages (from statsmodels<1,>=0.13.2->ydata-profiling) (0.5.3)\n",
      "Requirement already satisfied: colorama in c:\\users\\nishant ahuja\\anaconda3\\lib\\site-packages (from tqdm<5,>=4.48.2->ydata-profiling) (0.4.6)\n",
      "Requirement already satisfied: attrs>=19.3.0 in c:\\users\\nishant ahuja\\anaconda3\\lib\\site-packages (from visions[type_image_path]<0.7.7,>=0.7.5->ydata-profiling) (22.1.0)\n",
      "Requirement already satisfied: networkx>=2.4 in c:\\users\\nishant ahuja\\anaconda3\\lib\\site-packages (from visions[type_image_path]<0.7.7,>=0.7.5->ydata-profiling) (2.8.4)\n",
      "Requirement already satisfied: six in c:\\users\\nishant ahuja\\anaconda3\\lib\\site-packages (from patsy>=0.5.2->statsmodels<1,>=0.13.2->ydata-profiling) (1.16.0)\n"
     ]
    }
   ],
   "source": [
    "#Install ydata-profilling\n",
    "!pip install ydata-profiling"
   ]
  },
  {
   "cell_type": "code",
   "execution_count": 27,
   "id": "d76b693f",
   "metadata": {},
   "outputs": [],
   "source": [
    "# import ProfileReport\n",
    "from ydata_profiling import ProfileReport        "
   ]
  },
  {
   "cell_type": "code",
   "execution_count": 29,
   "id": "6b380350",
   "metadata": {},
   "outputs": [
    {
     "name": "stderr",
     "output_type": "stream",
     "text": [
      "C:\\Users\\Nishant Ahuja\\anaconda3\\lib\\site-packages\\ydata_profiling\\profile_report.py:363: UserWarning: Try running command: 'pip install --upgrade Pillow' to avoid ValueError\n",
      "  warnings.warn(\n"
     ]
    },
    {
     "data": {
      "application/vnd.jupyter.widget-view+json": {
       "model_id": "3baa083b1c8a4d8cb6a0663590494058",
       "version_major": 2,
       "version_minor": 0
      },
      "text/plain": [
       "Summarize dataset:   0%|          | 0/5 [00:00<?, ?it/s]"
      ]
     },
     "metadata": {},
     "output_type": "display_data"
    },
    {
     "data": {
      "application/vnd.jupyter.widget-view+json": {
       "model_id": "b352bbebedfd4eed959db3ee7ebf4d52",
       "version_major": 2,
       "version_minor": 0
      },
      "text/plain": [
       "Generate report structure:   0%|          | 0/1 [00:00<?, ?it/s]"
      ]
     },
     "metadata": {},
     "output_type": "display_data"
    },
    {
     "data": {
      "application/vnd.jupyter.widget-view+json": {
       "model_id": "21f7cce108cd4671b22af122b1023028",
       "version_major": 2,
       "version_minor": 0
      },
      "text/plain": [
       "Render HTML:   0%|          | 0/1 [00:00<?, ?it/s]"
      ]
     },
     "metadata": {},
     "output_type": "display_data"
    },
    {
     "data": {
      "application/vnd.jupyter.widget-view+json": {
       "model_id": "4ddde9aabab9446b969e9276b631d529",
       "version_major": 2,
       "version_minor": 0
      },
      "text/plain": [
       "Export report to file:   0%|          | 0/1 [00:00<?, ?it/s]"
      ]
     },
     "metadata": {},
     "output_type": "display_data"
    }
   ],
   "source": [
    "# create report\n",
    "profile=ProfileReport(df,explorative = True, dark_mode= False)\n",
    "#Export report\n",
    "profile.to_file('ProfileReport.html')"
   ]
  },
  {
   "cell_type": "code",
   "execution_count": null,
   "id": "04402a25",
   "metadata": {},
   "outputs": [],
   "source": []
  }
 ],
 "metadata": {
  "kernelspec": {
   "display_name": "Python 3 (ipykernel)",
   "language": "python",
   "name": "python3"
  },
  "language_info": {
   "codemirror_mode": {
    "name": "ipython",
    "version": 3
   },
   "file_extension": ".py",
   "mimetype": "text/x-python",
   "name": "python",
   "nbconvert_exporter": "python",
   "pygments_lexer": "ipython3",
   "version": "3.10.9"
  }
 },
 "nbformat": 4,
 "nbformat_minor": 5
}
